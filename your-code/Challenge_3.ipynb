{
 "cells": [
  {
   "cell_type": "markdown",
   "metadata": {},
   "source": [
    "# Challenge 3"
   ]
  },
  {
   "cell_type": "markdown",
   "metadata": {},
   "source": [
    "You are presented with an integer number larger than 5. Your goal is to identify the longest side\n",
    "possible in a right triangle whose sides are not longer than the number you are given.\n",
    "\n",
    "For example, if you are given the number 15, there are 3 possibilities to compose right triangles:\n",
    "\n",
    "1. [3, 4, 5]\n",
    "2. [6, 8, 10]\n",
    "3. [5, 12, 13]\n",
    "\n",
    "The following function shows one way to solve the problem but the code is not ideal or efficient.\n",
    "Refactor the code based on what you have learned about code simplicity and efficiency."
   ]
  },
  {
   "cell_type": "code",
   "execution_count": 2,
   "metadata": {
    "ExecuteTime": {
     "end_time": "2020-02-18T14:16:36.896312Z",
     "start_time": "2020-02-18T14:16:34.094130Z"
    }
   },
   "outputs": [
    {
     "name": "stdout",
     "output_type": "stream",
     "text": [
      "What is the maximal length of the triangle side? Enter a number: 50\n",
      "The longest side possible is 45\n"
     ]
    }
   ],
   "source": [
    "def my_function(X):\n",
    "    solutions = []\n",
    "    for x in range(5, X):\n",
    "        for y in range(4, X):\n",
    "            for z in range(3, X):\n",
    "                if (x*x==y*y+z*z):\n",
    "                    solutions.append([x, y, z])\n",
    "    m = 0\n",
    "    for solution in solutions:\n",
    "        if m < max(solution):\n",
    "            m = max(solution)\n",
    "    return m\n",
    "\n",
    "X = input(\"What is the maximal length of the triangle side? Enter a number: \")\n",
    "\n",
    "print(\"The longest side possible is \" + str(my_function(int(X))))"
   ]
  },
  {
   "cell_type": "code",
   "execution_count": 12,
   "metadata": {
    "ExecuteTime": {
     "end_time": "2020-02-18T14:30:58.588978Z",
     "start_time": "2020-02-18T14:30:57.173315Z"
    }
   },
   "outputs": [
    {
     "name": "stdout",
     "output_type": "stream",
     "text": [
      "What is the maximal length of the triangle side? Enter a number: 50\n",
      "The longest side possible is 45\n"
     ]
    }
   ],
   "source": [
    "# Defino el contenido del for loop de my_function(X) con list comprehension en una sola línea.\n",
    "# Defino el contenido del for loop de \"for solution in solutions\" también con list comprehension.\n",
    "# Return del valor más alto, que será el lado mayor.\n",
    "# Cambio \"m\" por \"max_side\" para identificarlo mejor\n",
    "\n",
    "def my_function(X):\n",
    "    \n",
    "    solutions = [(x,y,z) for x in range(5, X) for y in range(4, X) for z in range(3, X) if (x*x==y*y+z*z)]\n",
    "    max_side = [max(solution) for solution in solutions ]\n",
    "    return max(max_side)\n",
    "\n",
    "# Definimos el resultado de este input X como un integer, porque debe ser un número.\n",
    "# Queda mejor definido aquí que no directamente en el print\n",
    "\n",
    "X = int(input(\"What is the maximal length of the triangle side? Enter a number: \"))\n",
    "\n",
    "print(\"The longest side possible is \" + str(my_function(X)))"
   ]
  }
 ],
 "metadata": {
  "kernelspec": {
   "display_name": "Python 3",
   "language": "python",
   "name": "python3"
  },
  "language_info": {
   "codemirror_mode": {
    "name": "ipython",
    "version": 3
   },
   "file_extension": ".py",
   "mimetype": "text/x-python",
   "name": "python",
   "nbconvert_exporter": "python",
   "pygments_lexer": "ipython3",
   "version": "3.8.0"
  },
  "toc": {
   "base_numbering": 1,
   "nav_menu": {},
   "number_sections": true,
   "sideBar": true,
   "skip_h1_title": false,
   "title_cell": "Table of Contents",
   "title_sidebar": "Contents",
   "toc_cell": false,
   "toc_position": {},
   "toc_section_display": true,
   "toc_window_display": false
  },
  "varInspector": {
   "cols": {
    "lenName": 16,
    "lenType": 16,
    "lenVar": 40
   },
   "kernels_config": {
    "python": {
     "delete_cmd_postfix": "",
     "delete_cmd_prefix": "del ",
     "library": "var_list.py",
     "varRefreshCmd": "print(var_dic_list())"
    },
    "r": {
     "delete_cmd_postfix": ") ",
     "delete_cmd_prefix": "rm(",
     "library": "var_list.r",
     "varRefreshCmd": "cat(var_dic_list()) "
    }
   },
   "types_to_exclude": [
    "module",
    "function",
    "builtin_function_or_method",
    "instance",
    "_Feature"
   ],
   "window_display": false
  }
 },
 "nbformat": 4,
 "nbformat_minor": 2
}
